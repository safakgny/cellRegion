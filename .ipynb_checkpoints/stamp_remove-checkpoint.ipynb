{
 "cells": [
  {
   "cell_type": "code",
   "execution_count": 2,
   "id": "73660502-b9db-4a90-a392-49605475cd8a",
   "metadata": {},
   "outputs": [
    {
     "name": "stdin",
     "output_type": "stream",
     "text": [
      "Once deleted, variables cannot be recovered. Proceed (y/[n])?  y\n"
     ]
    }
   ],
   "source": [
    "reset"
   ]
  },
  {
   "cell_type": "code",
   "execution_count": 3,
   "id": "4c30dee9-535a-402b-9f63-373857c9adb6",
   "metadata": {},
   "outputs": [
    {
     "ename": "ModuleNotFoundError",
     "evalue": "No module named 'matplotlib'",
     "output_type": "error",
     "traceback": [
      "\u001b[0;31m---------------------------------------------------------------------------\u001b[0m",
      "\u001b[0;31mModuleNotFoundError\u001b[0m                       Traceback (most recent call last)",
      "Cell \u001b[0;32mIn[3], line 2\u001b[0m\n\u001b[1;32m      1\u001b[0m \u001b[38;5;28;01mimport\u001b[39;00m \u001b[38;5;21;01mnumpy\u001b[39;00m \u001b[38;5;28;01mas\u001b[39;00m \u001b[38;5;21;01mnp\u001b[39;00m\n\u001b[0;32m----> 2\u001b[0m \u001b[38;5;28;01mfrom\u001b[39;00m \u001b[38;5;21;01mmatplotlib\u001b[39;00m \u001b[38;5;28;01mimport\u001b[39;00m pyplot \u001b[38;5;28;01mas\u001b[39;00m ply\n",
      "\u001b[0;31mModuleNotFoundError\u001b[0m: No module named 'matplotlib'"
     ]
    }
   ],
   "source": [
    "import numpy as np\n",
    "from matplotlib import pyplot as ply"
   ]
  },
  {
   "cell_type": "code",
   "execution_count": null,
   "id": "992237d5-2ac2-4c83-95ca-89bef6976e76",
   "metadata": {},
   "outputs": [],
   "source": [
    "from openslide import OpenSlide\n",
    "from PIL import Image\n",
    "\n",
    "def crop_svs(input_svs_path, output_svs_path, x, y, width, height):\n",
    "    # Open the SVS file\n",
    "    slide = OpenSlide(input_svs_path)\n",
    "\n",
    "    # Crop the region of interest\n",
    "    region = slide.read_region((x, y), 0, (width, height))\n",
    "\n",
    "    # Save the cropped region as a new SVS file\n",
    "    region.save(output_svs_path)\n",
    "\n",
    "    # Close the SVS file\n",
    "    slide.close()\n",
    "\n",
    "# Specify the coordinates (x, y) and dimensions (width, height) of the region to be cropped\n",
    "x =  1000 # starting x-coordinate\n",
    "y = 1000  # starting y-coordinate\n",
    "width = 87649  # width of the region\n",
    "height = 87649  # height of the region\n",
    "# Crop the specified region and save it as a new SVS file\n",
    "crop_svs(\"/media/nfs/test/2016_15973.svs\", \"/media/nfs/output/out.png\", x, y, width, height)"
   ]
  },
  {
   "cell_type": "code",
   "execution_count": 35,
   "id": "3675b772-94c5-4243-a781-7353eeaf004f",
   "metadata": {},
   "outputs": [],
   "source": [
    "slide = OpenSlide(\"/media/nfs/test/2016_15973.svs\")"
   ]
  },
  {
   "cell_type": "code",
   "execution_count": null,
   "id": "e21bf6d8-9a64-49c5-9bab-51c522a94f51",
   "metadata": {},
   "outputs": [],
   "source": []
  }
 ],
 "metadata": {
  "kernelspec": {
   "display_name": "Python (cellRegion)",
   "language": "python",
   "name": "cellregion"
  },
  "language_info": {
   "codemirror_mode": {
    "name": "ipython",
    "version": 3
   },
   "file_extension": ".py",
   "mimetype": "text/x-python",
   "name": "python",
   "nbconvert_exporter": "python",
   "pygments_lexer": "ipython3",
   "version": "3.11.5"
  }
 },
 "nbformat": 4,
 "nbformat_minor": 5
}
