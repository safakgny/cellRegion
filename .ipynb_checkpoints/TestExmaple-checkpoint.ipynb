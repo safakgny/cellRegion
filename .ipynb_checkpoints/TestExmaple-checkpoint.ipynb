{
 "cells": [
  {
   "cell_type": "code",
   "execution_count": 1,
   "id": "19a7d7f1-6853-4322-96da-3bf0d7c12f5e",
   "metadata": {},
   "outputs": [],
   "source": [
    "import torch "
   ]
  },
  {
   "cell_type": "code",
   "execution_count": 3,
   "id": "0c2f4991-f7bf-420e-9204-c5a9b46df017",
   "metadata": {},
   "outputs": [
    {
     "data": {
      "text/plain": [
       "_CudaDeviceProperties(name='NVIDIA GeForce RTX 4090', major=8, minor=9, total_memory=24217MB, multi_processor_count=128)"
      ]
     },
     "execution_count": 3,
     "metadata": {},
     "output_type": "execute_result"
    }
   ],
   "source": [
    "device = torch.device(\"cuda\" if torch.cuda.is_available() else \"cpu\")\n",
    "torch.cuda.get_device_properties(device)"
   ]
  },
  {
   "cell_type": "code",
   "execution_count": 5,
   "id": "cde7d951-fa67-4f31-967e-52ec4c1b19cf",
   "metadata": {},
   "outputs": [],
   "source": [
    "import numpy as np\n",
    "from matplotlib import pyplot as ply"
   ]
  },
  {
   "cell_type": "code",
   "execution_count": 2,
   "id": "c2827e38-927e-4df2-8c49-4b91bec0f22b",
   "metadata": {},
   "outputs": [],
   "source": [
    "from openslide import OpenSlide\n",
    "from PIL import Image"
   ]
  },
  {
   "cell_type": "code",
   "execution_count": 3,
   "id": "82c3d77b-89e8-4ffc-9be8-dbfdaf302753",
   "metadata": {},
   "outputs": [
    {
     "ename": "AttributeError",
     "evalue": "'OpenSlide' object has no attribute 'to'",
     "output_type": "error",
     "traceback": [
      "\u001b[0;31m---------------------------------------------------------------------------\u001b[0m",
      "\u001b[0;31mAttributeError\u001b[0m                            Traceback (most recent call last)",
      "Cell \u001b[0;32mIn[3], line 22\u001b[0m\n\u001b[1;32m     20\u001b[0m height \u001b[38;5;241m=\u001b[39m \u001b[38;5;241m1000\u001b[39m  \u001b[38;5;66;03m# height of the region\u001b[39;00m\n\u001b[1;32m     21\u001b[0m \u001b[38;5;66;03m# Crop the specified region and save it as a new SVS file\u001b[39;00m\n\u001b[0;32m---> 22\u001b[0m crop_svs(\u001b[38;5;124m\"\u001b[39m\u001b[38;5;124m/media/nfs/test/2016_15973.svs\u001b[39m\u001b[38;5;124m\"\u001b[39m, \u001b[38;5;124m\"\u001b[39m\u001b[38;5;124m/media/nfs/output/out.png\u001b[39m\u001b[38;5;124m\"\u001b[39m, x, y, width, height)\n",
      "Cell \u001b[0;32mIn[3], line 5\u001b[0m, in \u001b[0;36mcrop_svs\u001b[0;34m(input_svs_path, output_svs_path, x, y, width, height)\u001b[0m\n\u001b[1;32m      1\u001b[0m \u001b[38;5;28;01mdef\u001b[39;00m \u001b[38;5;21mcrop_svs\u001b[39m(input_svs_path, output_svs_path, x, y, width, height):\n\u001b[1;32m      2\u001b[0m     \n\u001b[1;32m      3\u001b[0m     \u001b[38;5;66;03m# Open the SVS file\u001b[39;00m\n\u001b[1;32m      4\u001b[0m     slide \u001b[38;5;241m=\u001b[39m OpenSlide(input_svs_path)\n\u001b[0;32m----> 5\u001b[0m     slide\u001b[38;5;241m.\u001b[39mto(device)\n\u001b[1;32m      7\u001b[0m     \u001b[38;5;66;03m# Crop the region of interest\u001b[39;00m\n\u001b[1;32m      8\u001b[0m     region \u001b[38;5;241m=\u001b[39m slide\u001b[38;5;241m.\u001b[39mread_region((x, y), \u001b[38;5;241m0\u001b[39m, (width, height))\n",
      "\u001b[0;31mAttributeError\u001b[0m: 'OpenSlide' object has no attribute 'to'"
     ]
    }
   ],
   "source": [
    "def crop_svs(input_svs_path, output_svs_path, x, y, width, height):\n",
    "    \n",
    "    # Open the SVS file\n",
    "    slide = OpenSlide(input_svs_path)\n",
    "    slide.to(device)\n",
    "\n",
    "    # Crop the region of interest\n",
    "    region = slide.read_region((x, y), 0, (width, height))\n",
    "\n",
    "    # Save the cropped region as a new SVS file\n",
    "    region.save(output_svs_path)\n",
    "\n",
    "    # Close the SVS file\n",
    "    slide.close()\n",
    "\n",
    "# Specify the coordinates (x, y) and dimensions (width, height) of the region to be cropped\n",
    "x =  100000 # starting x-coordinate\n",
    "y = 30000  # starting y-coordinate\n",
    "width = 1000  # width of the region\n",
    "height = 1000  # height of the region\n",
    "# Crop the specified region and save it as a new SVS file\n",
    "crop_svs(\"/media/nfs/test/2016_15973.svs\", \"/media/nfs/output/out.png\", x, y, width, height)\n"
   ]
  },
  {
   "cell_type": "code",
   "execution_count": null,
   "id": "7d2b664b-42a5-4f81-b86d-acb383bef57f",
   "metadata": {},
   "outputs": [],
   "source": [
    "slide = OpenSlide(\"/media/nfs/test/2016_15973.svs\")"
   ]
  }
 ],
 "metadata": {
  "kernelspec": {
   "display_name": "Python (cellRegion)",
   "language": "python",
   "name": "cellregion"
  },
  "language_info": {
   "codemirror_mode": {
    "name": "ipython",
    "version": 3
   },
   "file_extension": ".py",
   "mimetype": "text/x-python",
   "name": "python",
   "nbconvert_exporter": "python",
   "pygments_lexer": "ipython3",
   "version": "3.11.5"
  }
 },
 "nbformat": 4,
 "nbformat_minor": 5
}
