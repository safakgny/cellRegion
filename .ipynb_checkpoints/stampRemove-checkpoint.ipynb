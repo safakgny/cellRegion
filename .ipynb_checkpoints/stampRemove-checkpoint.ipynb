{
 "cells": [
  {
   "cell_type": "code",
   "execution_count": 29,
   "id": "19a7d7f1-6853-4322-96da-3bf0d7c12f5e",
   "metadata": {},
   "outputs": [],
   "source": [
    "import torch "
   ]
  },
  {
   "cell_type": "code",
   "execution_count": 30,
   "id": "0c2f4991-f7bf-420e-9204-c5a9b46df017",
   "metadata": {},
   "outputs": [
    {
     "data": {
      "text/plain": [
       "_CudaDeviceProperties(name='NVIDIA GeForce RTX 4090', major=8, minor=9, total_memory=24217MB, multi_processor_count=128)"
      ]
     },
     "execution_count": 30,
     "metadata": {},
     "output_type": "execute_result"
    }
   ],
   "source": [
    "device = torch.device(\"cuda\" if torch.cuda.is_available() else \"cpu\")\n",
    "torch.cuda.get_device_properties(device)"
   ]
  },
  {
   "cell_type": "code",
   "execution_count": 31,
   "id": "cde7d951-fa67-4f31-967e-52ec4c1b19cf",
   "metadata": {},
   "outputs": [],
   "source": [
    "import numpy as np\n",
    "from matplotlib import pyplot as ply\n",
    "from openslide import OpenSlide\n",
    "import cupy as cp\n",
    "from PIL import Image, ImageDraw"
   ]
  },
  {
   "cell_type": "code",
   "execution_count": 32,
   "id": "82c3d77b-89e8-4ffc-9be8-dbfdaf302753",
   "metadata": {},
   "outputs": [],
   "source": [
    "def crop_svs(input_svs_path, output_svs_path, x, y, width, height):\n",
    "    \n",
    "    # Open the SVS file\n",
    "    slide = OpenSlide(input_svs_path)\n",
    "\n",
    "    # Crop the region of interest\n",
    "    region = slide.read_region((x, y), 0, (width, height))\n",
    "\n",
    "    # Save the cropped region as a new SVS file\n",
    "    region.save(output_svs_path)\n",
    "\n",
    "    # Close the SVS file\n",
    "    slide.close()\n",
    "\n",
    "# Specify the coordinates (x, y) and dimensions (width, height) of the region to be cropped\n",
    "x =  130266 # starting x-coordinate\n",
    "y = 43080  # starting y-coordinate\n",
    "width = 41196  # width of the region\n",
    "height = 41196  # height of the region\n",
    "# Crop the specified region and save it as a new PNG file\n",
    "crop_svs(\"/media/nfs/test/2016_15973.svs\", \"/media/nfs/output/out.png\", x, y, width, height)"
   ]
  },
  {
   "cell_type": "code",
   "execution_count": null,
   "id": "ded435a5-01f9-49e5-a608-3a9abe9f7c9b",
   "metadata": {},
   "outputs": [],
   "source": []
  }
 ],
 "metadata": {
  "kernelspec": {
   "display_name": "Python (cellRegion)",
   "language": "python",
   "name": "cellregion"
  },
  "language_info": {
   "codemirror_mode": {
    "name": "ipython",
    "version": 3
   },
   "file_extension": ".py",
   "mimetype": "text/x-python",
   "name": "python",
   "nbconvert_exporter": "python",
   "pygments_lexer": "ipython3",
   "version": "3.11.5"
  }
 },
 "nbformat": 4,
 "nbformat_minor": 5
}
