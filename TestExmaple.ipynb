{
 "cells": [
  {
   "cell_type": "code",
   "execution_count": 7,
   "id": "19a7d7f1-6853-4322-96da-3bf0d7c12f5e",
   "metadata": {},
   "outputs": [],
   "source": [
    "import torch "
   ]
  },
  {
   "cell_type": "code",
   "execution_count": 8,
   "id": "0c2f4991-f7bf-420e-9204-c5a9b46df017",
   "metadata": {},
   "outputs": [
    {
     "name": "stdout",
     "output_type": "stream",
     "text": [
      "cpu\n"
     ]
    }
   ],
   "source": [
    "device = torch.device(\"cuda\" if torch.cuda.is_available() else \"cpu\")\n",
    "print(device)"
   ]
  },
  {
   "cell_type": "code",
   "execution_count": 9,
   "id": "82c3d77b-89e8-4ffc-9be8-dbfdaf302753",
   "metadata": {},
   "outputs": [],
   "source": [
    "x = torch.rand(5,10)"
   ]
  },
  {
   "cell_type": "code",
   "execution_count": 6,
   "id": "38f6409d-00dc-46e8-8755-6d2c0efa6826",
   "metadata": {},
   "outputs": [
    {
     "data": {
      "text/plain": [
       "tensor([[0.7791, 0.3343, 0.7473, 0.0754, 0.8382, 0.9974, 0.7036, 0.6756, 0.8826,\n",
       "         0.7153],\n",
       "        [0.4398, 0.9965, 0.2903, 0.4424, 0.3845, 0.7134, 0.3140, 0.5672, 0.4121,\n",
       "         0.1796],\n",
       "        [0.1607, 0.7571, 0.8873, 0.7009, 0.3848, 0.8027, 0.3795, 0.7521, 0.7781,\n",
       "         0.1823],\n",
       "        [0.4794, 0.1067, 0.9283, 0.8418, 0.0496, 0.5369, 0.5241, 0.9589, 0.1875,\n",
       "         0.9992],\n",
       "        [0.0968, 0.8523, 0.1491, 0.8512, 0.7133, 0.1804, 0.4477, 0.9380, 0.8047,\n",
       "         0.5442]])"
      ]
     },
     "execution_count": 6,
     "metadata": {},
     "output_type": "execute_result"
    }
   ],
   "source": [
    "x.to(device)"
   ]
  },
  {
   "cell_type": "code",
   "execution_count": 6,
   "id": "3be1c261-182e-4db6-af9c-ac8f757a37b2",
   "metadata": {},
   "outputs": [
    {
     "name": "stdout",
     "output_type": "stream",
     "text": [
      "Output shape: torch.Size([1, 10])\n"
     ]
    }
   ],
   "source": [
    "import torch\n",
    "import torch.nn as nn\n",
    "import torch.optim as optim\n",
    "import torchvision\n",
    "import torchvision.transforms as transforms\n",
    "\n",
    "# Check if GPU is available\n",
    "device = torch.device(\"cuda\" if torch.cuda.is_available() else \"cpu\")\n",
    "\n",
    "# Define the CNN architecture\n",
    "class SimpleCNN(nn.Module):\n",
    "    def __init__(self):\n",
    "        super(SimpleCNN, self).__init__()\n",
    "        self.conv1 = nn.Conv2d(3, 16, kernel_size=3, padding=1)\n",
    "        self.relu1 = nn.ReLU()\n",
    "        self.pool1 = nn.MaxPool2d(kernel_size=2, stride=2)\n",
    "\n",
    "        self.conv2 = nn.Conv2d(16, 32, kernel_size=3, padding=1)\n",
    "        self.relu2 = nn.ReLU()\n",
    "        self.pool2 = nn.MaxPool2d(kernel_size=2, stride=2)\n",
    "\n",
    "        self.fc1 = nn.Linear(32 * 8 * 8, 256)\n",
    "        self.relu3 = nn.ReLU()\n",
    "        self.fc2 = nn.Linear(256, 10)  # Assuming 10 classes for classification\n",
    "\n",
    "    def forward(self, x):\n",
    "        x = self.pool1(self.relu1(self.conv1(x)))\n",
    "        x = self.pool2(self.relu2(self.conv2(x)))\n",
    "        x = x.view(-1, 32 * 8 * 8)\n",
    "        x = self.relu3(self.fc1(x))\n",
    "        x = self.fc2(x)\n",
    "        return x\n",
    "\n",
    "# Create an instance of the CNN\n",
    "net = SimpleCNN().to(device)\n",
    "\n",
    "# Define a dummy input (you would replace this with your actual input data)\n",
    "dummy_input = torch.randn(1, 3, 32, 32).to(device)\n",
    "\n",
    "# Forward pass to check if the network works\n",
    "output = net(dummy_input)\n",
    "\n",
    "# Print the output shape\n",
    "print(\"Output shape:\", output.shape)\n"
   ]
  },
  {
   "cell_type": "code",
   "execution_count": 13,
   "id": "cf83508e-198c-45cc-ac84-7e403011008e",
   "metadata": {},
   "outputs": [
    {
     "data": {
      "text/plain": [
       "tensor([[-0.0812,  0.0705,  0.0269,  0.0029, -0.2202,  0.0359, -0.0562,  0.0193,\n",
       "          0.0255,  0.0917]], grad_fn=<AddmmBackward0>)"
      ]
     },
     "execution_count": 13,
     "metadata": {},
     "output_type": "execute_result"
    }
   ],
   "source": [
    "output"
   ]
  }
 ],
 "metadata": {
  "kernelspec": {
   "display_name": "medpro",
   "language": "python",
   "name": "medpro"
  },
  "language_info": {
   "codemirror_mode": {
    "name": "ipython",
    "version": 3
   },
   "file_extension": ".py",
   "mimetype": "text/x-python",
   "name": "python",
   "nbconvert_exporter": "python",
   "pygments_lexer": "ipython3",
   "version": "3.11.5"
  }
 },
 "nbformat": 4,
 "nbformat_minor": 5
}
